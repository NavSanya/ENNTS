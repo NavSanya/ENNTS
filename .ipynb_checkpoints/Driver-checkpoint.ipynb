{
 "cells": [
  {
   "cell_type": "code",
   "execution_count": null,
   "id": "615b3979",
   "metadata": {},
   "outputs": [],
   "source": [
    "#from DatasetClasses import *\n",
    "#import DatasetClasses\n",
    "%run DatasetClasses.ipynb"
   ]
  },
  {
   "cell_type": "code",
   "execution_count": null,
   "id": "4a8b4c0a",
   "metadata": {},
   "outputs": [],
   "source": [
    "def main():\n",
    "    #creating all the datasets\n",
    "    obj = DataSets(50, 10, 2.5, 100.95)\n",
    "    obj.setting_mean_covariance()\n",
    "    #obj.read_distributions()\n",
    "    #obj.datasetOfPoints()\n",
    "\n",
    "if __name__ == \"__main__\":\n",
    "    main()"
   ]
  },
  {
   "cell_type": "code",
   "execution_count": null,
   "id": "c0e75484",
   "metadata": {},
   "outputs": [],
   "source": []
  },
  {
   "cell_type": "code",
   "execution_count": null,
   "id": "8253133b",
   "metadata": {},
   "outputs": [],
   "source": []
  }
 ],
 "metadata": {
  "kernelspec": {
   "display_name": "Python 3",
   "language": "python",
   "name": "python3"
  },
  "language_info": {
   "codemirror_mode": {
    "name": "ipython",
    "version": 3
   },
   "file_extension": ".py",
   "mimetype": "text/x-python",
   "name": "python",
   "nbconvert_exporter": "python",
   "pygments_lexer": "ipython3",
   "version": "3.8.8"
  }
 },
 "nbformat": 4,
 "nbformat_minor": 5
}
