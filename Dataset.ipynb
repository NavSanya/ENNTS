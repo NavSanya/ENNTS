{
 "cells": [
  {
   "cell_type": "code",
   "execution_count": 1,
   "id": "682b2e88",
   "metadata": {},
   "outputs": [],
   "source": [
    "%matplotlib inline\n",
    "%config InlineBackend.figure_formats = ['svg']\n",
    "\n",
    "import random\n",
    "import csv\n",
    "import numpy as np\n",
    "import matplotlib\n",
    "import matplotlib.pyplot as plt\n",
    "from matplotlib import cm # Colormaps\n",
    "import matplotlib.gridspec as gridspec\n",
    "from mpl_toolkits.axes_grid1 import make_axes_locatable\n",
    "import seaborn as sns\n",
    "import pandas as pd\n",
    "\n",
    "sns.set_style('darkgrid')\n",
    "np.random.seed(42)"
   ]
  },
  {
   "cell_type": "code",
   "execution_count": 2,
   "id": "5433baf9",
   "metadata": {},
   "outputs": [],
   "source": [
    "def multidimential_gauss(x, d, mean, covariance):\n",
    "    \"\"\"pdf of the multivariate normal distribution.\"\"\"\n",
    "    x_m = x - mean\n",
    "    return (1. / (np.sqrt((2 * np.pi)**d * np.linalg.det(covariance))) * \n",
    "            np.exp(-(np.linalg.solve(covariance, x_m).T.dot(x_m)) / 2))"
   ]
  },
  {
   "cell_type": "code",
   "execution_count": 3,
   "id": "e85b5aa0",
   "metadata": {},
   "outputs": [],
   "source": [
    "def generate_surface(mean, covariance, d):\n",
    "    \"\"\"Helper function to generate density surface.\"\"\"\n",
    "    nb_of_x = 50 # grid size\n",
    "    x1s = np.linspace(-10, 10, num=nb_of_x)\n",
    "    x2s = np.linspace(-10, 10, num=nb_of_x)\n",
    "    x1, x2 = np.meshgrid(x1s, x2s) # Generate grid\n",
    "    pdf = np.zeros((nb_of_x, nb_of_x))\n",
    "    # Fill the cost matrix for each combination of weights\n",
    "    for i in range(nb_of_x):\n",
    "        for j in range(nb_of_x):\n",
    "            pdf[i,j] = multidimential_gauss(\n",
    "                np.matrix([[x1[i,j]], [x2[i,j]]]), \n",
    "                d, mean, covariance)\n",
    "    return x1, x2, pdf  "
   ]
  },
  {
   "cell_type": "code",
   "execution_count": 4,
   "id": "42ffdaae",
   "metadata": {},
   "outputs": [],
   "source": [
    "def creating_distributions(mean1, mean2, covar, d):\n",
    "    bidimentional_mean = np.matrix([[mean1], [mean2]])  # Mean\n",
    "    bidimentional_covariance = np.matrix([\n",
    "    [covar, 0.], \n",
    "    [0., covar]])  # Covariance\n",
    "    x1, x2, p = generate_surface(\n",
    "        bidimentional_mean, bidimentional_covariance, d)\n",
    "    \n",
    "    fig, axs = plt.subplot(1, 1, figsize=(8,4))\n",
    "    con = ax1.contourf(x1, x2, p, 33, cmap=cm.YlGnBu)\n",
    "    axs.set_xlabel('$x_1$', fontsize=10)\n",
    "    axs.set_ylabel('$x_2$', fontsize=10)\n",
    "    axs.axis([-10, 10, -10, 10])\n",
    "    axs.set_aspect('equal')\n",
    "    axs.set_title('Distribution', fontsize=13)\n",
    "    \n",
    "    # Add colorbar and title\n",
    "    fig.subplots_adjust(right=0.8)\n",
    "    cbar_ax = fig.add_axes([0.85, 0.15, 0.02, 0.7])\n",
    "    cbar = fig.colorbar(con, cax=cbar_ax)\n",
    "    cbar.ax.set_ylabel('$p(x_1, x_2)$', fontsize=10)\n",
    "    plt.show()\n"
   ]
  },
  {
   "cell_type": "code",
   "execution_count": 5,
   "id": "de32a264",
   "metadata": {},
   "outputs": [],
   "source": [
    "def setting_mean_covariance(mu1,sigma1,mu2,sigma2,mu3,sigma3):\n",
    "    d=2\n",
    "    with open ('DataSet.csv', mode='w') as Random_Gauss_Distributions:\n",
    "        fieldnames = ['Mean1','Mean2', 'Covariance']\n",
    "        writer=csv.DictWriter(Random_Gauss_Distributions,fieldnames=fieldnames)\n",
    "        writer.writeheader()\n",
    "\n",
    "        for i in range (500):\n",
    "            temp1 = random.gauss(mu1, sigma1) #First mean\n",
    "            str_temp1=str(temp1)\n",
    "\n",
    "            temp2 = random.gauss(mu2, sigma2) #second mean\n",
    "            str_temp2=str(temp2)\n",
    "\n",
    "            temp3 = random.gauss(mu3, sigma3) #covariance\n",
    "            str_temp3=str(temp2)\n",
    "\n",
    "            writer.writerow({'Mean1':str_temp1,'Mean2':str_temp2,'Covariance':str_temp3})"
   ]
  },
  {
   "cell_type": "code",
   "execution_count": 6,
   "id": "683426cb",
   "metadata": {},
   "outputs": [],
   "source": [
    "def read_dis():\n",
    "    d=2\n",
    "    with open ('DataSet.csv', mode='r') as Random_Gauss_Distributions:\n",
    "        csv_reader=csv.DictReader(Random_Gauss_Distributions)\n",
    "\n",
    "        linecount=0\n",
    "        for row in csv_reader:\n",
    "            if linecount != 0:\n",
    "                creating_distributions(row['Mean1'], row['Mean2'],row['Covariance'], d)\n",
    "                linecount+=1"
   ]
  },
  {
   "cell_type": "code",
   "execution_count": 7,
   "id": "fce26f54",
   "metadata": {},
   "outputs": [],
   "source": [
    "mu1 = 10\n",
    "sigma1 = 5\n",
    "mu2=20\n",
    "sigma2=10\n",
    "mu3=10\n",
    "sigma3=2\n",
    "\n",
    "setting_mean_covariance(mu1,sigma1,mu2,sigma2,mu3,sigma3)\n",
    "read_dis()\n",
    "\n",
    "\n",
    "   \n",
    "    "
   ]
  },
  {
   "cell_type": "code",
   "execution_count": null,
   "id": "9a4fc805",
   "metadata": {},
   "outputs": [],
   "source": []
  }
 ],
 "metadata": {
  "kernelspec": {
   "display_name": "Python 3",
   "language": "python",
   "name": "python3"
  },
  "language_info": {
   "codemirror_mode": {
    "name": "ipython",
    "version": 3
   },
   "file_extension": ".py",
   "mimetype": "text/x-python",
   "name": "python",
   "nbconvert_exporter": "python",
   "pygments_lexer": "ipython3",
   "version": "3.9.5"
  }
 },
 "nbformat": 4,
 "nbformat_minor": 5
}
