{
 "cells": [
  {
   "cell_type": "code",
   "execution_count": 1,
   "id": "17382ed0",
   "metadata": {},
   "outputs": [],
   "source": [
    "import random\n",
    "import csv\n",
    "import numpy as np\n",
    "import matplotlib\n",
    "import matplotlib.pyplot as plt\n",
    "from matplotlib import cm # Colormaps\n",
    "import matplotlib.gridspec as gridspec\n",
    "from mpl_toolkits.axes_grid1 import make_axes_locatable\n",
    "import seaborn as sns\n",
    "import pandas as pd\n",
    "\n",
    "sns.set_style('darkgrid')\n",
    "np.random.seed(42)"
   ]
  },
  {
   "cell_type": "code",
   "execution_count": null,
   "id": "64860eb0",
   "metadata": {},
   "outputs": [],
   "source": [
    "#distance of each class with the other\n",
    "def euclidean_distance(a,b):\n",
    "    dist = np.linalg.norm(a - b)\n",
    "    return dist\n",
    "\n",
    "'''TODO'''\n",
    "def return_center(mean1, mean2, covariance):\n",
    "    pass"
   ]
  },
  {
   "cell_type": "code",
   "execution_count": 7,
   "id": "2cd14ced",
   "metadata": {},
   "outputs": [],
   "source": [
    "#Creating a csv file\n",
    "with open('Distance.csv', mode='w') as dist_write:\n",
    "    feildnames = ['Classes']\n",
    "    writer = csv.DictWriter(dist_write, fieldnames = feildnames)\n",
    "    writer.writeheader()\n",
    "    for i in range (1,501):\n",
    "        writer.writerow({'Classes':i})\n",
    "\n",
    "#find centers of each class\n",
    "lists=[]\n",
    "with open ('DataSet.csv', mode='r') as data_read:\n",
    "    reader = csv.DictReader(data_read)\n",
    "    list_count = 0\n",
    "    for row in reader:\n",
    "        if list_count == 0:\n",
    "            list_count+=1\n",
    "        else\n",
    "            lists.append(return_center(float(row['Mean1']), float(row['Mean2']), float(row['Covariance'])))\n",
    "            list_count+=1\n",
    "      "
   ]
  },
  {
   "cell_type": "code",
   "execution_count": null,
   "id": "48204d8d",
   "metadata": {},
   "outputs": [],
   "source": []
  }
 ],
 "metadata": {
  "kernelspec": {
   "display_name": "Python 3",
   "language": "python",
   "name": "python3"
  },
  "language_info": {
   "codemirror_mode": {
    "name": "ipython",
    "version": 3
   },
   "file_extension": ".py",
   "mimetype": "text/x-python",
   "name": "python",
   "nbconvert_exporter": "python",
   "pygments_lexer": "ipython3",
   "version": "3.8.8"
  }
 },
 "nbformat": 4,
 "nbformat_minor": 5
}
