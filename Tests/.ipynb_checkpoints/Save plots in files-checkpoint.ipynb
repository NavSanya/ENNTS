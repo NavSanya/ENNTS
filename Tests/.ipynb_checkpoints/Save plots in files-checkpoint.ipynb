{
 "cells": [
  {
   "cell_type": "code",
   "execution_count": 2,
   "id": "96b090bb",
   "metadata": {},
   "outputs": [
    {
     "data": {
      "image/png": "[encoded data removed]",
      "text/plain": [
       "<Figure size 432x288 with 1 Axes>"
      ]
     },
     "metadata": {
      "needs_background": "light"
     },
     "output_type": "display_data"
    }
   ],
   "source": [
    "import matplotlib.pyplot as plt\n",
    "  \n",
    "# Creating data\n",
    "year = ['2010', '2002', '2004', '2006', '2008']\n",
    "production = [25, 15, 35, 30, 10]\n",
    "  \n",
    "# Plotting barchart\n",
    "plt.bar(year, production)\n",
    "  \n",
    "# Saving the figure.\n",
    "plt.savefig(\"output.jpg\")\n",
    "\n",
    "plt.savefig(\"output1\", facecolor='y', bbox_inches=\"tight\",\n",
    "            pad_inches=0.3, transparent=True)"
   ]
  },
  {
   "cell_type": "code",
   "execution_count": null,
   "id": "d9d58ec3",
   "metadata": {},
   "outputs": [],
   "source": []
  }
 ],
 "metadata": {
  "kernelspec": {
   "display_name": "Python 3",
   "language": "python",
   "name": "python3"
  },
  "language_info": {
   "codemirror_mode": {
    "name": "ipython",
    "version": 3
   },
   "file_extension": ".py",
   "mimetype": "text/x-python",
   "name": "python",
   "nbconvert_exporter": "python",
   "pygments_lexer": "ipython3",
   "version": "3.8.8"
  }
 },
 "nbformat": 4,
 "nbformat_minor": 5
}
