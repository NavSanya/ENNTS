{
 "cells": [
  {
   "cell_type": "code",
   "execution_count": 8,
   "id": "8c663388",
   "metadata": {},
   "outputs": [
    {
     "name": "stdout",
     "output_type": "stream",
     "text": [
      "Random synaptic weights: \n",
      "[[-0.16595599]\n",
      " [ 0.44064899]\n",
      " [-0.99977125]]\n"
     ]
    }
   ],
   "source": [
    "import numpy as np\n",
    "\n",
    "def sigmoid(x):\n",
    "    return 1/(1+np.exp(-x))\n",
    "\n",
    "def sigmoid_derivative(x):\n",
    "    return x*(1-x)\n",
    "\n",
    "training_input = np.array([[0,0,1],\n",
    "                           [1,1,1],\n",
    "                           [1,0,1],\n",
    "                           [0,1,1]\n",
    "                          ])\n",
    "training_output = np.array([[0,1,1,0]]).T #this is a row we will transpose it to make a column\n",
    "\n",
    "np.random.seed(1)\n",
    "\n",
    "synaptic_weights = 2 * np.random.random((3, 1)) - 1\n",
    "print ('Random synaptic weights: ')\n",
    "print (synaptic_weights)"
   ]
  },
  {
   "cell_type": "code",
   "execution_count": 13,
   "id": "d9809ff4",
   "metadata": {},
   "outputs": [
    {
     "name": "stdout",
     "output_type": "stream",
     "text": [
      "Synaptic weights after training: \n",
      "[[12.71639134]\n",
      " [-0.20391855]\n",
      " [-6.15452135]]\n",
      "Output after training: \n",
      "[[0.00211936]\n",
      " [0.99827008]\n",
      " [0.99858875]\n",
      " [0.00172908]]\n"
     ]
    }
   ],
   "source": [
    "for iteration in range (200000):\n",
    "    input_layer = training_input\n",
    "    output = sigmoid(np.dot(input_layer, synaptic_weights))\n",
    "\n",
    "    error = training_output - output\n",
    "    adjustment = error * sigmoid_derivative(output)\n",
    "    synaptic_weights += np.dot(input_layer.T, adjustment)\n",
    "\n",
    "print(\"Synaptic weights after training: \")\n",
    "print(synaptic_weights)\n",
    "\n",
    "print(\"Output after training: \")\n",
    "print(output)"
   ]
  },
  {
   "cell_type": "code",
   "execution_count": 3,
   "id": "710afac9",
   "metadata": {},
   "outputs": [
    {
     "data": {
      "image/png": "[encoded data removed]",
      "text/plain": [
       "<Figure size 432x288 with 1 Axes>"
      ]
     },
     "metadata": {
      "needs_background": "light"
     },
     "output_type": "display_data"
    },
    {
     "name": "stdout",
     "output_type": "stream",
     "text": [
      "Feature shape: (2,)\n",
      "Epoch 1/50\n",
      "24/24 [==============================] - 0s 10ms/step - loss: 1.2498 - accuracy: 0.4333 - val_loss: 0.7572 - val_accuracy: 0.5467\n",
      "Epoch 2/50\n",
      "24/24 [==============================] - 0s 3ms/step - loss: 0.8214 - accuracy: 0.4900 - val_loss: 0.6784 - val_accuracy: 0.5667\n",
      "Epoch 3/50\n",
      "24/24 [==============================] - 0s 2ms/step - loss: 0.6853 - accuracy: 0.4933 - val_loss: 0.5905 - val_accuracy: 0.5667\n",
      "Epoch 4/50\n",
      "24/24 [==============================] - 0s 3ms/step - loss: 0.5530 - accuracy: 0.4883 - val_loss: 0.4780 - val_accuracy: 0.5667\n",
      "Epoch 5/50\n",
      "24/24 [==============================] - 0s 2ms/step - loss: 0.3629 - accuracy: 0.4883 - val_loss: 0.3184 - val_accuracy: 0.5533\n",
      "Epoch 6/50\n",
      "24/24 [==============================] - 0s 2ms/step - loss: 0.1594 - accuracy: 0.4867 - val_loss: 0.1550 - val_accuracy: 0.5667\n",
      "Epoch 7/50\n",
      "24/24 [==============================] - 0s 2ms/step - loss: 0.0697 - accuracy: 0.4867 - val_loss: 0.1013 - val_accuracy: 0.5600\n",
      "Epoch 8/50\n",
      "24/24 [==============================] - 0s 2ms/step - loss: 0.0432 - accuracy: 0.4883 - val_loss: 0.0786 - val_accuracy: 0.5733\n",
      "Epoch 9/50\n",
      "24/24 [==============================] - 0s 2ms/step - loss: 0.0363 - accuracy: 0.4917 - val_loss: 0.0693 - val_accuracy: 0.5733\n",
      "Epoch 10/50\n",
      "24/24 [==============================] - 0s 2ms/step - loss: 0.0333 - accuracy: 0.4933 - val_loss: 0.0623 - val_accuracy: 0.5733\n",
      "Epoch 11/50\n",
      "24/24 [==============================] - 0s 2ms/step - loss: 0.0303 - accuracy: 0.4900 - val_loss: 0.0559 - val_accuracy: 0.5733\n",
      "Epoch 12/50\n",
      "24/24 [==============================] - 0s 2ms/step - loss: 0.0259 - accuracy: 0.4967 - val_loss: 0.0626 - val_accuracy: 0.5733\n",
      "Epoch 13/50\n",
      "24/24 [==============================] - 0s 2ms/step - loss: 0.0284 - accuracy: 0.4917 - val_loss: 0.0521 - val_accuracy: 0.5733\n",
      "Epoch 14/50\n",
      "24/24 [==============================] - 0s 3ms/step - loss: 0.0235 - accuracy: 0.4917 - val_loss: 0.0521 - val_accuracy: 0.5733\n",
      "Epoch 15/50\n",
      "24/24 [==============================] - 0s 2ms/step - loss: 0.0228 - accuracy: 0.4933 - val_loss: 0.0496 - val_accuracy: 0.5733\n",
      "Epoch 16/50\n",
      "24/24 [==============================] - 0s 2ms/step - loss: 0.0193 - accuracy: 0.4950 - val_loss: 0.0493 - val_accuracy: 0.5733\n",
      "Epoch 17/50\n",
      "24/24 [==============================] - 0s 2ms/step - loss: 0.0185 - accuracy: 0.4933 - val_loss: 0.0466 - val_accuracy: 0.5733\n",
      "Epoch 18/50\n",
      "24/24 [==============================] - 0s 3ms/step - loss: 0.0168 - accuracy: 0.4933 - val_loss: 0.0393 - val_accuracy: 0.5733\n",
      "Epoch 19/50\n",
      "24/24 [==============================] - 0s 2ms/step - loss: 0.0153 - accuracy: 0.4933 - val_loss: 0.0407 - val_accuracy: 0.5733\n",
      "Epoch 20/50\n",
      "24/24 [==============================] - 0s 3ms/step - loss: 0.0147 - accuracy: 0.4967 - val_loss: 0.0347 - val_accuracy: 0.5733\n",
      "Epoch 21/50\n",
      "24/24 [==============================] - 0s 2ms/step - loss: 0.0133 - accuracy: 0.4950 - val_loss: 0.0372 - val_accuracy: 0.5733\n",
      "Epoch 22/50\n",
      "24/24 [==============================] - 0s 3ms/step - loss: 0.0125 - accuracy: 0.4950 - val_loss: 0.0231 - val_accuracy: 0.5800\n",
      "Epoch 23/50\n",
      "24/24 [==============================] - 0s 2ms/step - loss: 0.0133 - accuracy: 0.4967 - val_loss: 0.0334 - val_accuracy: 0.5733\n",
      "Epoch 24/50\n",
      "24/24 [==============================] - 0s 3ms/step - loss: 0.0131 - accuracy: 0.4933 - val_loss: 0.0219 - val_accuracy: 0.5867\n",
      "Epoch 25/50\n",
      "24/24 [==============================] - 0s 2ms/step - loss: 0.0127 - accuracy: 0.4967 - val_loss: 0.0288 - val_accuracy: 0.5733\n",
      "Epoch 26/50\n",
      "24/24 [==============================] - 0s 2ms/step - loss: 0.0111 - accuracy: 0.4933 - val_loss: 0.0237 - val_accuracy: 0.5733\n",
      "Epoch 27/50\n",
      "24/24 [==============================] - 0s 2ms/step - loss: 0.0106 - accuracy: 0.4950 - val_loss: 0.0360 - val_accuracy: 0.5733\n",
      "Epoch 28/50\n",
      "24/24 [==============================] - 0s 2ms/step - loss: 0.0114 - accuracy: 0.4950 - val_loss: 0.0241 - val_accuracy: 0.5733\n",
      "Epoch 29/50\n",
      "24/24 [==============================] - 0s 2ms/step - loss: 0.0084 - accuracy: 0.4933 - val_loss: 0.0211 - val_accuracy: 0.5733\n",
      "Epoch 30/50\n",
      "24/24 [==============================] - 0s 2ms/step - loss: 0.0084 - accuracy: 0.4967 - val_loss: 0.0293 - val_accuracy: 0.5733\n",
      "Epoch 31/50\n",
      "24/24 [==============================] - 0s 2ms/step - loss: 0.0075 - accuracy: 0.4967 - val_loss: 0.0249 - val_accuracy: 0.5733\n",
      "Epoch 32/50\n",
      "24/24 [==============================] - 0s 3ms/step - loss: 0.0085 - accuracy: 0.4967 - val_loss: 0.0239 - val_accuracy: 0.5733\n",
      "Epoch 33/50\n",
      "24/24 [==============================] - 0s 2ms/step - loss: 0.0069 - accuracy: 0.4967 - val_loss: 0.0236 - val_accuracy: 0.5733\n",
      "Epoch 34/50\n",
      "24/24 [==============================] - 0s 3ms/step - loss: 0.0066 - accuracy: 0.4967 - val_loss: 0.0210 - val_accuracy: 0.5733\n",
      "Epoch 35/50\n",
      "24/24 [==============================] - 0s 2ms/step - loss: 0.0067 - accuracy: 0.4967 - val_loss: 0.0220 - val_accuracy: 0.5733\n",
      "Epoch 36/50\n",
      "24/24 [==============================] - 0s 2ms/step - loss: 0.0066 - accuracy: 0.4967 - val_loss: 0.0207 - val_accuracy: 0.5733\n",
      "Epoch 37/50\n",
      "24/24 [==============================] - 0s 2ms/step - loss: 0.0061 - accuracy: 0.4967 - val_loss: 0.0234 - val_accuracy: 0.5733\n",
      "Epoch 38/50\n",
      "24/24 [==============================] - 0s 2ms/step - loss: 0.0057 - accuracy: 0.4967 - val_loss: 0.0148 - val_accuracy: 0.5733\n",
      "Epoch 39/50\n",
      "24/24 [==============================] - 0s 2ms/step - loss: 0.0066 - accuracy: 0.4967 - val_loss: 0.0192 - val_accuracy: 0.5733\n",
      "Epoch 40/50\n",
      "24/24 [==============================] - 0s 2ms/step - loss: 0.0059 - accuracy: 0.4967 - val_loss: 0.0202 - val_accuracy: 0.5733\n",
      "Epoch 41/50\n",
      "24/24 [==============================] - 0s 2ms/step - loss: 0.0052 - accuracy: 0.4967 - val_loss: 0.0110 - val_accuracy: 0.5800\n",
      "Epoch 42/50\n",
      "24/24 [==============================] - 0s 2ms/step - loss: 0.0058 - accuracy: 0.4967 - val_loss: 0.0168 - val_accuracy: 0.5733\n",
      "Epoch 43/50\n",
      "24/24 [==============================] - 0s 3ms/step - loss: 0.0050 - accuracy: 0.4967 - val_loss: 0.0176 - val_accuracy: 0.5733\n",
      "Epoch 44/50\n",
      "24/24 [==============================] - 0s 3ms/step - loss: 0.0049 - accuracy: 0.4967 - val_loss: 0.0172 - val_accuracy: 0.5733\n",
      "Epoch 45/50\n",
      "24/24 [==============================] - 0s 2ms/step - loss: 0.0048 - accuracy: 0.4967 - val_loss: 0.0158 - val_accuracy: 0.5733\n",
      "Epoch 46/50\n",
      "24/24 [==============================] - 0s 2ms/step - loss: 0.0044 - accuracy: 0.4967 - val_loss: 0.0130 - val_accuracy: 0.5733\n",
      "Epoch 47/50\n",
      "24/24 [==============================] - 0s 3ms/step - loss: 0.0047 - accuracy: 0.4967 - val_loss: 0.0114 - val_accuracy: 0.5733\n",
      "Epoch 48/50\n",
      "24/24 [==============================] - 0s 3ms/step - loss: 0.0046 - accuracy: 0.4967 - val_loss: 0.0153 - val_accuracy: 0.5733\n",
      "Epoch 49/50\n",
      "24/24 [==============================] - 0s 3ms/step - loss: 0.0043 - accuracy: 0.4967 - val_loss: 0.0148 - val_accuracy: 0.5733\n",
      "Epoch 50/50\n",
      "24/24 [==============================] - 0s 3ms/step - loss: 0.0041 - accuracy: 0.4967 - val_loss: 0.0118 - val_accuracy: 0.5733\n",
      "8/8 [==============================] - 0s 2ms/step - loss: 0.0028 - accuracy: 0.4560\n",
      "Test results - Loss: 0.0028443040791898966 - Accuracy: 45.60000002384186%\n",
      "(250, 2)\n",
      "(250,)\n"
     ]
    },
    {
     "data": {
      "image/png": "[encoded data removed]",
      "text/plain": [
       "<Figure size 432x288 with 1 Axes>"
      ]
     },
     "metadata": {
      "needs_background": "light"
     },
     "output_type": "display_data"
    }
   ],
   "source": [
    "import tensorflow.keras\n",
    "from tensorflow.keras.datasets import mnist\n",
    "from tensorflow.keras.models import Sequential\n",
    "from tensorflow.keras.layers import Dense\n",
    "from tensorflow.keras.utils import to_categorical\n",
    "import matplotlib.pyplot as plt\n",
    "import numpy as np\n",
    "from sklearn.datasets import make_blobs\n",
    "from mlxtend.plotting import plot_decision_regions\n",
    "\n",
    "# Configuration options\n",
    "num_samples_total = 1000\n",
    "training_split = 250\n",
    "\n",
    "# Generate data\n",
    "X, targets = make_blobs(n_samples = num_samples_total, centers = [(0,0), (15,15)], n_features = 2, center_box=(0, 1), cluster_std = 2.5)\n",
    "targets[np.where(targets == 0)] = -1\n",
    "X_training = X[training_split:, :]\n",
    "X_testing = X[:training_split, :]\n",
    "Targets_training = targets[training_split:]\n",
    "Targets_testing = targets[:training_split]\n",
    "\n",
    "# Generate scatter plot for training data\n",
    "plt.scatter(X_training[:,0], X_training[:,1])\n",
    "plt.title('Linearly separable data')\n",
    "plt.xlabel('X1')\n",
    "plt.ylabel('X2')\n",
    "plt.show()\n",
    "\n",
    "# Set the input shape\n",
    "feature_vector_shape = len(X_training[0])\n",
    "input_shape = (feature_vector_shape,)\n",
    "print(f'Feature shape: {input_shape}')\n",
    "\n",
    "# Create the model\n",
    "model = Sequential()\n",
    "model.add(Dense(50, input_shape=input_shape, activation='relu', kernel_initializer='he_uniform'))\n",
    "model.add(Dense(1, activation='tanh'))\n",
    "\n",
    "# Configure the model and start training\n",
    "model.compile(loss='squared_hinge', optimizer='adam', metrics=['accuracy'])\n",
    "model.fit(X_training, Targets_training, epochs=50, batch_size=25, verbose=1, validation_split=0.2)\n",
    "\n",
    "# Test the model after training\n",
    "test_results = model.evaluate(X_testing, Targets_testing, verbose=1)\n",
    "print(f'Test results - Loss: {test_results[0]} - Accuracy: {test_results[1]*100}%')\n",
    "\n",
    "# Plot decision boundary\n",
    "print(X_testing.shape)\n",
    "print(Targets_testing.shape)\n",
    "\n",
    "plot_decision_regions(X_testing, Targets_testing, clf=model, legend=2)\n",
    "plt.show()"
   ]
  },
  {
   "cell_type": "code",
   "execution_count": null,
   "id": "c8c254d6",
   "metadata": {},
   "outputs": [],
   "source": []
  }
 ],
 "metadata": {
  "kernelspec": {
   "display_name": "Python 3",
   "language": "python",
   "name": "python3"
  },
  "language_info": {
   "codemirror_mode": {
    "name": "ipython",
    "version": 3
   },
   "file_extension": ".py",
   "mimetype": "text/x-python",
   "name": "python",
   "nbconvert_exporter": "python",
   "pygments_lexer": "ipython3",
   "version": "3.8.8"
  }
 },
 "nbformat": 4,
 "nbformat_minor": 5
}
