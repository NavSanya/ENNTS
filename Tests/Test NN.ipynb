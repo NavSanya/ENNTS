{
 "cells": [
  {
   "cell_type": "code",
   "execution_count": 8,
   "id": "8c663388",
   "metadata": {},
   "outputs": [
    {
     "name": "stdout",
     "output_type": "stream",
     "text": [
      "Random synaptic weights: \n",
      "[[-0.16595599]\n",
      " [ 0.44064899]\n",
      " [-0.99977125]]\n"
     ]
    }
   ],
   "source": [
    "import numpy as np\n",
    "\n",
    "def sigmoid(x):\n",
    "    return 1/(1+np.exp(-x))\n",
    "\n",
    "def sigmoid_derivative(x):\n",
    "    return x*(1-x)\n",
    "\n",
    "training_input = np.array([[0,0,1],\n",
    "                           [1,1,1],\n",
    "                           [1,0,1],\n",
    "                           [0,1,1]\n",
    "                          ])\n",
    "training_output = np.array([[0,1,1,0]]).T #this is a row we will transpose it to make a column\n",
    "\n",
    "np.random.seed(1)\n",
    "\n",
    "synaptic_weights = 2 * np.random.random((3, 1)) - 1\n",
    "print ('Random synaptic weights: ')\n",
    "print (synaptic_weights)"
   ]
  },
  {
   "cell_type": "code",
   "execution_count": 13,
   "id": "d9809ff4",
   "metadata": {},
   "outputs": [
    {
     "name": "stdout",
     "output_type": "stream",
     "text": [
      "Synaptic weights after training: \n",
      "[[12.71639134]\n",
      " [-0.20391855]\n",
      " [-6.15452135]]\n",
      "Output after training: \n",
      "[[0.00211936]\n",
      " [0.99827008]\n",
      " [0.99858875]\n",
      " [0.00172908]]\n"
     ]
    }
   ],
   "source": [
    "for iteration in range (200000):\n",
    "    input_layer = training_input\n",
    "    output = sigmoid(np.dot(input_layer, synaptic_weights))\n",
    "\n",
    "    error = training_output - output\n",
    "    adjustment = error * sigmoid_derivative(output)\n",
    "    synaptic_weights += np.dot(input_layer.T, adjustment)\n",
    "\n",
    "print(\"Synaptic weights after training: \")\n",
    "print(synaptic_weights)\n",
    "\n",
    "print(\"Output after training: \")\n",
    "print(output)"
   ]
  },
  {
   "cell_type": "code",
   "execution_count": null,
   "id": "710afac9",
   "metadata": {},
   "outputs": [],
   "source": []
  }
 ],
 "metadata": {
  "kernelspec": {
   "display_name": "Python 3",
   "language": "python",
   "name": "python3"
  },
  "language_info": {
   "codemirror_mode": {
    "name": "ipython",
    "version": 3
   },
   "file_extension": ".py",
   "mimetype": "text/x-python",
   "name": "python",
   "nbconvert_exporter": "python",
   "pygments_lexer": "ipython3",
   "version": "3.8.8"
  }
 },
 "nbformat": 4,
 "nbformat_minor": 5
}
