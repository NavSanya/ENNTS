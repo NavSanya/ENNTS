{
 "cells": [
  {
   "cell_type": "markdown",
   "id": "84c11fe3",
   "metadata": {},
   "source": [
    "# Trying to create a Neural Network"
   ]
  },
  {
   "cell_type": "code",
   "execution_count": 2,
   "id": "9a605024",
   "metadata": {},
   "outputs": [],
   "source": [
    "import sys\n",
    "import numpy as np\n",
    "import matplotlib"
   ]
  },
  {
   "cell_type": "markdown",
   "id": "7ca12de9",
   "metadata": {},
   "source": [
    "### Single Neuron\n",
    "Each input needs a weight associated with it. Inputs are the data that we pass into the model\n",
    "to get desired outputs, while the weights are the parameters that that change inside the model during the training phase, along with biases that also change during training.\n",
    "\n",
    "Since we’re modeling a single neuron, we only have one bias, as there’s just one bias value per neuron."
   ]
  },
  {
   "cell_type": "code",
   "execution_count": 3,
   "id": "adf00e28",
   "metadata": {},
   "outputs": [],
   "source": [
    "inputs = [1, 2, 3]\n",
    "weights = [0.2, 0.8, -0.5]\n",
    "bias = 2"
   ]
  },
  {
   "cell_type": "markdown",
   "id": "cdc72275",
   "metadata": {},
   "source": [
    "This neuron sums each input multiplied by that input’s weight, then adds the bias. All the neuron\n",
    "does is take the fractions of inputs, where these fractions (weights) are the adjustable parameters, and adds another adjustable parameter — the bias — then outputs the result."
   ]
  },
  {
   "cell_type": "code",
   "execution_count": 4,
   "id": "793ab56d",
   "metadata": {},
   "outputs": [
    {
     "name": "stdout",
     "output_type": "stream",
     "text": [
      "2.3\n"
     ]
    }
   ],
   "source": [
    "output = (inputs[0]*weights[0] +\n",
    "          inputs[1]*weights[1]+\n",
    "          inputs[2]*weights[2]+ bias)\n",
    "\n",
    "print(output)"
   ]
  },
  {
   "cell_type": "markdown",
   "id": "473f95b2",
   "metadata": {},
   "source": [
    "### Layer of Neurons\n",
    "Each neuron in a layer takes exactly the same input — the input\n",
    "given to the layer (which can be either the training data or the output from the previous layer),\n",
    "but contains its own set of weights and its own bias, producing its own unique output. The layer’s output is a set of each of these outputs — one per each neuron."
   ]
  },
  {
   "cell_type": "code",
   "execution_count": 8,
   "id": "13838e39",
   "metadata": {},
   "outputs": [
    {
     "name": "stdout",
     "output_type": "stream",
     "text": [
      "[4.8, 1.21, 2.385]\n"
     ]
    }
   ],
   "source": [
    "inputs = [1, 2, 3, 2.5]\n",
    "\n",
    "weights1 = [0.2, 0.8, -0.5, 1]\n",
    "weights2 = [0.5, -0.91, 0.26, -0.5]\n",
    "weights3 = [-0.26, -0.27, 0.17, 0.87]\n",
    "\n",
    "bias1 = 2\n",
    "bias2 = 3\n",
    "bias3 = 0.5\n",
    "\n",
    "output = [\n",
    "          #Neuron 1\n",
    "          inputs[0]*weights1[0] +\n",
    "          inputs[1]*weights1[1]+\n",
    "          inputs[2]*weights1[2]+ \n",
    "          inputs[3]*weights1[3]+ bias1,\n",
    "          \n",
    "          #Neuron 2\n",
    "          inputs[0]*weights2[0] +\n",
    "          inputs[1]*weights2[1]+\n",
    "          inputs[2]*weights2[2]+ \n",
    "           inputs[3]*weights2[3]+ bias2,\n",
    "         \n",
    "          #Neuron 3\n",
    "          inputs[0]*weights3[0] +\n",
    "          inputs[1]*weights3[1]+\n",
    "          inputs[2]*weights3[2]+ \n",
    "          inputs[3]*weights3[3]+ bias3]\n",
    "\n",
    "print(output)"
   ]
  },
  {
   "cell_type": "markdown",
   "id": "ad0b4396",
   "metadata": {},
   "source": [
    "This is called a fully connected neural network — every neuron in the current layer has connections to every neuron from the previous layer. "
   ]
  },
  {
   "cell_type": "code",
   "execution_count": 12,
   "id": "027a4138",
   "metadata": {},
   "outputs": [
    {
     "name": "stdout",
     "output_type": "stream",
     "text": [
      "[4.8, 1.21, 2.385]\n"
     ]
    }
   ],
   "source": [
    "inputs = [1, 2, 3, 2.5]\n",
    "\n",
    "weights=[ [0.2, 0.8, -0.5, 1],\n",
    "         [0.5, -0.91, 0.26, -0.5], \n",
    "         [-0.26, -0.27, 0.17, 0.87]]\n",
    "\n",
    "biases = [2, 3, 0.5]\n",
    "\n",
    "layer_outputs=[]\n",
    "\n",
    "for neuron_weights, neuron_bias in zip(weights, biases):\n",
    "    neuron_output = 0\n",
    "    \n",
    "\n",
    "    for n_input, weight in zip (inputs, neuron_weights):\n",
    "        neuron_output +=n_input*weight\n",
    "    \n",
    "    neuron_output += neuron_bias\n",
    "    \n",
    "    layer_outputs.append(neuron_output)\n",
    "    \n",
    "print (layer_outputs)"
   ]
  },
  {
   "cell_type": "markdown",
   "id": "5f99b828",
   "metadata": {},
   "source": [
    "### Single Neuron with NumPy"
   ]
  },
  {
   "cell_type": "code",
   "execution_count": 13,
   "id": "3d312364",
   "metadata": {},
   "outputs": [
    {
     "name": "stdout",
     "output_type": "stream",
     "text": [
      "4.8\n"
     ]
    }
   ],
   "source": [
    "inputs = [1, 2, 3, 2.5]\n",
    "weights= [0.2, 0.8, -0.5, 1]\n",
    "bias = 2\n",
    "\n",
    "outputs = np.dot(weights, inputs) +bias\n",
    "\n",
    "print(outputs)"
   ]
  },
  {
   "cell_type": "markdown",
   "id": "479589b9",
   "metadata": {},
   "source": [
    "### A layer of Neurons in NumPy\n",
    "\n",
    "##### Dot product\n",
    "`a=[1,2,3]\n",
    " b=[2,3,4]\n",
    " dot_prod = a[0]*b[0] + a[1]*b[1] + a[2]*b[2]\n",
    " output: 20`"
   ]
  },
  {
   "cell_type": "code",
   "execution_count": 14,
   "id": "99c684eb",
   "metadata": {},
   "outputs": [
    {
     "name": "stdout",
     "output_type": "stream",
     "text": [
      "[4.8   1.21  2.385]\n"
     ]
    }
   ],
   "source": [
    "inputs = [1, 2, 3, 2.5]\n",
    "\n",
    "weights=[ [0.2, 0.8, -0.5, 1],\n",
    "         [0.5, -0.91, 0.26, -0.5], \n",
    "         [-0.26, -0.27, 0.17, 0.87]]\n",
    "\n",
    "biases = [2, 3, 0.5]\n",
    "\n",
    "layer_outputs = np.dot(weights, inputs) + biases\n",
    "\n",
    "print(layer_outputs)"
   ]
  },
  {
   "cell_type": "code",
   "execution_count": null,
   "id": "8401a55b",
   "metadata": {},
   "outputs": [],
   "source": []
  }
 ],
 "metadata": {
  "kernelspec": {
   "display_name": "Python 3",
   "language": "python",
   "name": "python3"
  },
  "language_info": {
   "codemirror_mode": {
    "name": "ipython",
    "version": 3
   },
   "file_extension": ".py",
   "mimetype": "text/x-python",
   "name": "python",
   "nbconvert_exporter": "python",
   "pygments_lexer": "ipython3",
   "version": "3.8.8"
  }
 },
 "nbformat": 4,
 "nbformat_minor": 5
}
