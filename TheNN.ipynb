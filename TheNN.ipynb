{
 "cells": [
  {
   "cell_type": "code",
   "execution_count": 3,
   "id": "66ebde6b",
   "metadata": {},
   "outputs": [],
   "source": [
    "import pandas\n",
    "import joblib\n",
    "import numpy as np\n",
    "import matplotlib.pyplot as plt\n",
    "import sklearn.model_selection\n",
    "import sklearn.metrics\n",
    "import sklearn.neural_network\n",
    "import sklearn.preprocessing\n",
    "import keras\n",
    "%run DatasetClasses.ipynb"
   ]
  },
  {
   "cell_type": "markdown",
   "id": "58509bb7",
   "metadata": {},
   "source": [
    "### Notes:\n",
    "1. 3 Layers - Input, Hidden, Output\n",
    "2. "
   ]
  },
  {
   "cell_type": "code",
   "execution_count": 4,
   "id": "1db5a6c9",
   "metadata": {},
   "outputs": [],
   "source": [
    "class NeuralNet: \n",
    "    # Train and evaluate\n",
    "    def train_and_evaluate(X_train, Y_train, X_test, Y_test):\n",
    "        \"\"\"Create and train the Neural Net\n",
    "           Dense NN created with 1 hidden layers \n",
    "        \"\"\"\n",
    "       # Create layers (Functional API)\n",
    "        inputs = keras.layers.Input(shape=(2,), dtype='float32', name='input_layer') # Input (2 dimensions)\n",
    "        outputs = keras.layers.Dense(64, activation='relu', name='hidden_layer')(inputs) # Hidden layer\n",
    "        outputs = keras.layers.Dense(3, activation='softmax', name='output_layer')(outputs) # Output layer (3 labels)\n",
    "        # Create a model from input layer and output layers\n",
    "        model = keras.models.Model(inputs=inputs, outputs=outputs, name='neural_network')\n",
    "        # Compile the model (binary_crossentropy if 2 classes)\n",
    "        model.compile(loss='categorical_crossentropy', optimizer='adam', metrics=['accuracy'])\n",
    "        # Convert labels to categorical: categorical_crossentropy expects targets \n",
    "        # to be binary matrices (1s and 0s) of shape (samples, classes)\n",
    "        Y_binary = keras.utils.to_categorical(Y_train, num_classes=3, dtype='int')\n",
    "        # Train the model on the train set (output debug information)\n",
    "        model.fit(X_train, Y_binary, batch_size=1, epochs=100, verbose=1)\n",
    "        # Save the model (Make sure that the folder exists)\n",
    "        model.save('models\\\\keras_nn.h5')\n",
    "        # Evaluate on training data\n",
    "        print('\\n-- Training data --')\n",
    "        predictions = model.predict(X_train)\n",
    "        accuracy = sklearn.metrics.accuracy_score(Y_train, np.argmax(predictions, axis=1))\n",
    "        print('Accuracy: {0:.2f}'.format(accuracy * 100.0))\n",
    "        print('Classification Report:')\n",
    "        print(sklearn.metrics.classification_report(Y_train, np.argmax(predictions, axis=1)))\n",
    "        print('Confusion Matrix:')\n",
    "        print(sklearn.metrics.confusion_matrix(Y_train, np.argmax(predictions, axis=1)))\n",
    "        print('')\n",
    "        # Evaluate on test data\n",
    "        print('\\n---- Test data ----')\n",
    "        predictions = model.predict(X_test)\n",
    "        accuracy = sklearn.metrics.accuracy_score(Y_test, np.argmax(predictions, axis=1))\n",
    "        print('Accuracy: {0:.2f}'.format(accuracy * 100.0))\n",
    "        print('Classification Report:')\n",
    "        print(sklearn.metrics.classification_report(Y_test, np.argmax(predictions, axis=1)))\n",
    "        print('Confusion Matrix:')\n",
    "        print(sklearn.metrics.confusion_matrix(Y_test, np.argmax(predictions, axis=1)))"
   ]
  },
  {
   "cell_type": "code",
   "execution_count": 5,
   "id": "bc30798b",
   "metadata": {},
   "outputs": [],
   "source": [
    "# Plot the classifier\n",
    "def plot_classifier(X, Y):\n",
    "    \n",
    "    # Load the model\n",
    "    model = keras.models.load_model('models\\\\keras_nn.h5')\n",
    "    # Plot model (Requires Graphviz)\n",
    "    #keras.utils.plot_model(model, show_shapes=True, rankdir='LR', expand_nested=True, to_file='plots\\\\keras_nn_model.png')\n",
    "    # Calculate\n",
    "    h = 0.02\n",
    "    x_min, x_max = X[:, 0].min() - 1, X[:, 0].max() + 1\n",
    "    y_min, y_max = X[:, 1].min() - 1, X[:, 1].max() + 1\n",
    "    xx, yy = np.meshgrid(np.arange(x_min, x_max, h), np.arange(y_min, y_max, h))\n",
    "    \n",
    "    # Make predictions\n",
    "    Z = model.predict(np.c_[xx.ravel(), yy.ravel()])\n",
    "    Z = np.argmax(Z, axis=1)\n",
    "    Z = Z.reshape(xx.shape)\n",
    "    # Plot diagram\n",
    "    fig = plt.figure(figsize = (12, 8))\n",
    "    plt.contourf(xx, yy, Z, cmap='ocean', alpha=0.25)\n",
    "    plt.contour(xx, yy, Z, colors='w', linewidths=0.4)\n",
    "    plt.scatter(X[:, 0], X[:, 1], c=Y, s=40, cmap='Spectral')\n",
    "    plt.xlim(xx.min(), xx.max())\n",
    "    plt.ylim(yy.min(), yy.max())\n",
    "    plt.savefig('plots\\\\keras_nn_classifier.png')\n"
   ]
  },
  {
   "cell_type": "code",
   "execution_count": null,
   "id": "136d9e36",
   "metadata": {},
   "outputs": [],
   "source": [
    "# # The main entry point for this module\n",
    "# def main():\n",
    "#     # Load data set (includes header values)\n",
    "#     dataset = pandas.read_csv('files\\\\spirals.csv')\n",
    "#     # Slice data set in data and labels (2D-array)\n",
    "#     X = dataset.values[:,0:2].astype(float) # Data\n",
    "#     Y = dataset.values[:,2].astype(int) # Labels\n",
    "#     # Split data set in train and test (use random state to get the same split every time, and stratify to keep balance)\n",
    "#     X_train, X_test, Y_train, Y_test = sklearn.model_selection.train_test_split(X, Y, test_size=0.2, random_state=5, stratify=Y)\n",
    "#     # Make sure that data still is balanced\n",
    "#     print('\\n--- Class balance ---')\n",
    "#     print(np.unique(Y_train, return_counts=True))\n",
    "#     print(np.unique(Y_test, return_counts=True))\n",
    "#     # Train and evaluate\n",
    "#     train_and_evaluate(X_train, Y_train, X_test, Y_test)\n",
    "#     # Plot classifier\n",
    "#     plot_classifier(X, Y)\n",
    "    \n",
    "# # Tell python to run main method\n",
    "# if __name__ == \"__main__\": main()"
   ]
  }
 ],
 "metadata": {
  "kernelspec": {
   "display_name": "Python 3",
   "language": "python",
   "name": "python3"
  },
  "language_info": {
   "codemirror_mode": {
    "name": "ipython",
    "version": 3
   },
   "file_extension": ".py",
   "mimetype": "text/x-python",
   "name": "python",
   "nbconvert_exporter": "python",
   "pygments_lexer": "ipython3",
   "version": "3.8.8"
  }
 },
 "nbformat": 4,
 "nbformat_minor": 5
}
